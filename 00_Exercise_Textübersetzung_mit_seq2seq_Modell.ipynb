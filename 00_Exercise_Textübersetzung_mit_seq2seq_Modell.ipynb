{
  "cells": [
    {
      "cell_type": "code",
      "execution_count": null,
      "metadata": {
        "colab": {
          "base_uri": "https://localhost:8080/"
        },
        "id": "UzJDxVrL-Ty8",
        "outputId": "55ee0974-be8c-4c4d-c9c5-188eb27c380a"
      },
      "outputs": [
        {
          "output_type": "stream",
          "name": "stdout",
          "text": [
            "Requirement already satisfied: tensorflow in /usr/local/lib/python3.10/dist-packages (2.15.0)\n",
            "Requirement already satisfied: absl-py>=1.0.0 in /usr/local/lib/python3.10/dist-packages (from tensorflow) (1.4.0)\n",
            "Requirement already satisfied: astunparse>=1.6.0 in /usr/local/lib/python3.10/dist-packages (from tensorflow) (1.6.3)\n",
            "Requirement already satisfied: flatbuffers>=23.5.26 in /usr/local/lib/python3.10/dist-packages (from tensorflow) (24.3.25)\n",
            "Requirement already satisfied: gast!=0.5.0,!=0.5.1,!=0.5.2,>=0.2.1 in /usr/local/lib/python3.10/dist-packages (from tensorflow) (0.5.4)\n",
            "Requirement already satisfied: google-pasta>=0.1.1 in /usr/local/lib/python3.10/dist-packages (from tensorflow) (0.2.0)\n",
            "Requirement already satisfied: h5py>=2.9.0 in /usr/local/lib/python3.10/dist-packages (from tensorflow) (3.9.0)\n",
            "Requirement already satisfied: libclang>=13.0.0 in /usr/local/lib/python3.10/dist-packages (from tensorflow) (18.1.1)\n",
            "Requirement already satisfied: ml-dtypes~=0.2.0 in /usr/local/lib/python3.10/dist-packages (from tensorflow) (0.2.0)\n",
            "Requirement already satisfied: numpy<2.0.0,>=1.23.5 in /usr/local/lib/python3.10/dist-packages (from tensorflow) (1.25.2)\n",
            "Requirement already satisfied: opt-einsum>=2.3.2 in /usr/local/lib/python3.10/dist-packages (from tensorflow) (3.3.0)\n",
            "Requirement already satisfied: packaging in /usr/local/lib/python3.10/dist-packages (from tensorflow) (24.0)\n",
            "Requirement already satisfied: protobuf!=4.21.0,!=4.21.1,!=4.21.2,!=4.21.3,!=4.21.4,!=4.21.5,<5.0.0dev,>=3.20.3 in /usr/local/lib/python3.10/dist-packages (from tensorflow) (3.20.3)\n",
            "Requirement already satisfied: setuptools in /usr/local/lib/python3.10/dist-packages (from tensorflow) (67.7.2)\n",
            "Requirement already satisfied: six>=1.12.0 in /usr/local/lib/python3.10/dist-packages (from tensorflow) (1.16.0)\n",
            "Requirement already satisfied: termcolor>=1.1.0 in /usr/local/lib/python3.10/dist-packages (from tensorflow) (2.4.0)\n",
            "Requirement already satisfied: typing-extensions>=3.6.6 in /usr/local/lib/python3.10/dist-packages (from tensorflow) (4.10.0)\n",
            "Requirement already satisfied: wrapt<1.15,>=1.11.0 in /usr/local/lib/python3.10/dist-packages (from tensorflow) (1.14.1)\n",
            "Requirement already satisfied: tensorflow-io-gcs-filesystem>=0.23.1 in /usr/local/lib/python3.10/dist-packages (from tensorflow) (0.36.0)\n",
            "Requirement already satisfied: grpcio<2.0,>=1.24.3 in /usr/local/lib/python3.10/dist-packages (from tensorflow) (1.62.1)\n",
            "Requirement already satisfied: tensorboard<2.16,>=2.15 in /usr/local/lib/python3.10/dist-packages (from tensorflow) (2.15.2)\n",
            "Requirement already satisfied: tensorflow-estimator<2.16,>=2.15.0 in /usr/local/lib/python3.10/dist-packages (from tensorflow) (2.15.0)\n",
            "Requirement already satisfied: keras<2.16,>=2.15.0 in /usr/local/lib/python3.10/dist-packages (from tensorflow) (2.15.0)\n",
            "Requirement already satisfied: wheel<1.0,>=0.23.0 in /usr/local/lib/python3.10/dist-packages (from astunparse>=1.6.0->tensorflow) (0.43.0)\n",
            "Requirement already satisfied: google-auth<3,>=1.6.3 in /usr/local/lib/python3.10/dist-packages (from tensorboard<2.16,>=2.15->tensorflow) (2.27.0)\n",
            "Requirement already satisfied: google-auth-oauthlib<2,>=0.5 in /usr/local/lib/python3.10/dist-packages (from tensorboard<2.16,>=2.15->tensorflow) (1.2.0)\n",
            "Requirement already satisfied: markdown>=2.6.8 in /usr/local/lib/python3.10/dist-packages (from tensorboard<2.16,>=2.15->tensorflow) (3.6)\n",
            "Requirement already satisfied: requests<3,>=2.21.0 in /usr/local/lib/python3.10/dist-packages (from tensorboard<2.16,>=2.15->tensorflow) (2.31.0)\n",
            "Requirement already satisfied: tensorboard-data-server<0.8.0,>=0.7.0 in /usr/local/lib/python3.10/dist-packages (from tensorboard<2.16,>=2.15->tensorflow) (0.7.2)\n",
            "Requirement already satisfied: werkzeug>=1.0.1 in /usr/local/lib/python3.10/dist-packages (from tensorboard<2.16,>=2.15->tensorflow) (3.0.2)\n",
            "Requirement already satisfied: cachetools<6.0,>=2.0.0 in /usr/local/lib/python3.10/dist-packages (from google-auth<3,>=1.6.3->tensorboard<2.16,>=2.15->tensorflow) (5.3.3)\n",
            "Requirement already satisfied: pyasn1-modules>=0.2.1 in /usr/local/lib/python3.10/dist-packages (from google-auth<3,>=1.6.3->tensorboard<2.16,>=2.15->tensorflow) (0.4.0)\n",
            "Requirement already satisfied: rsa<5,>=3.1.4 in /usr/local/lib/python3.10/dist-packages (from google-auth<3,>=1.6.3->tensorboard<2.16,>=2.15->tensorflow) (4.9)\n",
            "Requirement already satisfied: requests-oauthlib>=0.7.0 in /usr/local/lib/python3.10/dist-packages (from google-auth-oauthlib<2,>=0.5->tensorboard<2.16,>=2.15->tensorflow) (1.3.1)\n",
            "Requirement already satisfied: charset-normalizer<4,>=2 in /usr/local/lib/python3.10/dist-packages (from requests<3,>=2.21.0->tensorboard<2.16,>=2.15->tensorflow) (3.3.2)\n",
            "Requirement already satisfied: idna<4,>=2.5 in /usr/local/lib/python3.10/dist-packages (from requests<3,>=2.21.0->tensorboard<2.16,>=2.15->tensorflow) (3.6)\n",
            "Requirement already satisfied: urllib3<3,>=1.21.1 in /usr/local/lib/python3.10/dist-packages (from requests<3,>=2.21.0->tensorboard<2.16,>=2.15->tensorflow) (2.0.7)\n",
            "Requirement already satisfied: certifi>=2017.4.17 in /usr/local/lib/python3.10/dist-packages (from requests<3,>=2.21.0->tensorboard<2.16,>=2.15->tensorflow) (2024.2.2)\n",
            "Requirement already satisfied: MarkupSafe>=2.1.1 in /usr/local/lib/python3.10/dist-packages (from werkzeug>=1.0.1->tensorboard<2.16,>=2.15->tensorflow) (2.1.5)\n",
            "Requirement already satisfied: pyasn1<0.7.0,>=0.4.6 in /usr/local/lib/python3.10/dist-packages (from pyasn1-modules>=0.2.1->google-auth<3,>=1.6.3->tensorboard<2.16,>=2.15->tensorflow) (0.6.0)\n",
            "Requirement already satisfied: oauthlib>=3.0.0 in /usr/local/lib/python3.10/dist-packages (from requests-oauthlib>=0.7.0->google-auth-oauthlib<2,>=0.5->tensorboard<2.16,>=2.15->tensorflow) (3.2.2)\n",
            "Requirement already satisfied: keras in /usr/local/lib/python3.10/dist-packages (2.15.0)\n"
          ]
        }
      ],
      "source": [
        "#import os, sys\n",
        "! pip install tensorflow\n",
        "! pip install keras\n",
        "from tensorflow.keras.models import Model\n",
        "from tensorflow.keras.layers import Input, LSTM, GRU, Dense, Embedding\n",
        "from tensorflow.keras.preprocessing.text import Tokenizer\n",
        "from tensorflow.keras.preprocessing.sequence import pad_sequences\n",
        "from tensorflow.keras.utils import to_categorical\n",
        "import numpy as np\n",
        "import matplotlib.pyplot as plt"
      ]
    },
    {
      "cell_type": "code",
      "execution_count": null,
      "metadata": {
        "id": "net41qe8WVa-"
      },
      "outputs": [],
      "source": [
        "BATCH_SIZE = 64\n",
        "NUM_EPOCHS = 100\n",
        "#Achtung epochs=20 !\n",
        "LSTM_NODES =512\n",
        "TOTAL_SENTENCES = 20000\n",
        "MAX_SEN_LENGTH = 50\n",
        "MAX_NUM_WORDS = 20000\n",
        "EMBEDDING_SIZE = 100"
      ]
    },
    {
      "cell_type": "code",
      "execution_count": null,
      "metadata": {
        "id": "PClvjzX-Wb3H",
        "colab": {
          "base_uri": "https://localhost:8080/"
        },
        "outputId": "ab70df57-6c68-4e31-8792-46b4425ed137"
      },
      "outputs": [
        {
          "output_type": "stream",
          "name": "stdout",
          "text": [
            "Mounted at /content/drive\n"
          ]
        }
      ],
      "source": [
        "from google.colab import drive\n",
        "drive.mount('/content/drive')"
      ]
    },
    {
      "cell_type": "code",
      "execution_count": null,
      "metadata": {
        "id": "0H308BdBWXLx"
      },
      "outputs": [],
      "source": [
        "input_english_sentences = []\n",
        "output_french_sentences = []\n",
        "output_french_sentences_inputs = []\n",
        "\n",
        "count = 0\n",
        "for line in open(r'/content/drive/My Drive/GFU-ML+DL-U/NLP/fra.txt', encoding=\"utf-8\"):\n",
        "    count += 1\n",
        "\n",
        "    if count > TOTAL_SENTENCES:\n",
        "        break\n",
        "\n",
        "    if '\\t' not in line:\n",
        "        continue\n",
        "\n",
        "    input_sentence = line.rstrip().split('\\t')[0]\n",
        "\n",
        "    output = line.rstrip().split('\\t')[1]\n",
        "\n",
        "\n",
        "    output_sentence = output + ' <eos>'\n",
        "    output_sentence_input = '<sos> ' + output\n",
        "\n",
        "    input_english_sentences.append(input_sentence)\n",
        "    output_french_sentences.append(output_sentence)\n",
        "    output_french_sentences_inputs.append(output_sentence_input)\n"
      ]
    },
    {
      "cell_type": "code",
      "source": [],
      "metadata": {
        "id": "9mBPy5CbT1Z-"
      },
      "execution_count": null,
      "outputs": []
    },
    {
      "cell_type": "code",
      "execution_count": null,
      "metadata": {
        "colab": {
          "base_uri": "https://localhost:8080/"
        },
        "id": "3T7ybR4VZJXb",
        "outputId": "05271883-6499-42ef-f908-5152d208dda6"
      },
      "outputs": [
        {
          "output_type": "stream",
          "name": "stdout",
          "text": [
            "num samples input: 20000\n",
            "num samples output: 20000\n",
            "num samples output input: 20000\n"
          ]
        }
      ],
      "source": [
        "print(\"num samples input:\", len(input_english_sentences))\n",
        "print(\"num samples output:\", len(output_french_sentences))\n",
        "print(\"num samples output input:\", len(output_french_sentences_inputs))"
      ]
    },
    {
      "cell_type": "code",
      "execution_count": null,
      "metadata": {
        "colab": {
          "base_uri": "https://localhost:8080/"
        },
        "id": "bsOMp7cAanMM",
        "outputId": "8482d396-244c-4322-bb86-8bf8848519be"
      },
      "outputs": [
        {
          "output_type": "stream",
          "name": "stdout",
          "text": [
            "We lost.\n",
            "Nous fûmes défaits. <eos>\n",
            "<sos> Nous fûmes défaits.\n"
          ]
        }
      ],
      "source": [
        "print(input_english_sentences[221])\n",
        "print(output_french_sentences[221])\n",
        "print(output_french_sentences_inputs[221])"
      ]
    },
    {
      "cell_type": "code",
      "execution_count": null,
      "metadata": {
        "colab": {
          "base_uri": "https://localhost:8080/"
        },
        "id": "a1RoOIb_ao28",
        "outputId": "ac7d4619-17fe-4aea-fde1-04959999e4f9"
      },
      "outputs": [
        {
          "output_type": "stream",
          "name": "stdout",
          "text": [
            "Sum of unique words in English sentences: 3514\n",
            "Length of longest sentence in English sentences: 6\n"
          ]
        }
      ],
      "source": [
        "input_eng_tokenizer = Tokenizer(num_words=MAX_NUM_WORDS)\n",
        "input_eng_tokenizer.fit_on_texts(input_english_sentences)\n",
        "input_eng_integer_seq = input_eng_tokenizer.texts_to_sequences(input_english_sentences)\n",
        "\n",
        "word2idx_eng_inputs = input_eng_tokenizer.word_index\n",
        "print('Sum of unique words in English sentences: %s' % len(word2idx_eng_inputs))\n",
        "\n",
        "max_input_len = max(len(sen) for sen in input_eng_integer_seq)\n",
        "print(\"Length of longest sentence in English sentences: %g\" % max_input_len)"
      ]
    },
    {
      "cell_type": "code",
      "execution_count": null,
      "metadata": {
        "id": "xgXgbmnMaqpC",
        "colab": {
          "base_uri": "https://localhost:8080/"
        },
        "outputId": "3cb2e854-37dd-454d-adc1-880362b9db87"
      },
      "outputs": [
        {
          "output_type": "stream",
          "name": "stdout",
          "text": [
            "Sum of unique words in French sentences: 9532\n",
            "Length of longest sentence in French sentences: 13\n"
          ]
        }
      ],
      "source": [
        "output_french_tokenizer = Tokenizer(num_words=MAX_NUM_WORDS, filters='')\n",
        "output_french_tokenizer.fit_on_texts(output_french_sentences + output_french_sentences_inputs)\n",
        "output_french_integer_seq = output_french_tokenizer.texts_to_sequences(output_french_sentences)\n",
        "output_input_french_integer_seq = output_french_tokenizer.texts_to_sequences(output_french_sentences_inputs)\n",
        "\n",
        "word2idx_french_outputs = output_french_tokenizer.word_index\n",
        "print('Sum of unique words in French sentences: %s' % len(word2idx_french_outputs))\n",
        "\n",
        "num_words_output = len(word2idx_french_outputs) + 1\n",
        "max_out_len = max(len(sen) for sen in output_french_integer_seq)\n",
        "print(\"Length of longest sentence in French sentences: %g\" % max_out_len)\n"
      ]
    },
    {
      "cell_type": "code",
      "execution_count": null,
      "metadata": {
        "colab": {
          "base_uri": "https://localhost:8080/"
        },
        "id": "QAXZLftsa_-8",
        "outputId": "a6e52bd4-cbf8-4098-f7de-aa913e86d2b7"
      },
      "outputs": [
        {
          "output_type": "stream",
          "name": "stdout",
          "text": [
            "encoder_input_eng_sequences.shape: (20000, 6)\n",
            "encoder_input_eng_sequences[175]: [  0   0   0   0   6 307]\n",
            "6\n",
            "307\n"
          ]
        }
      ],
      "source": [
        "encoder_input_eng_sequences = pad_sequences(input_eng_integer_seq, maxlen=max_input_len)\n",
        "print(\"encoder_input_eng_sequences.shape:\", encoder_input_eng_sequences.shape)\n",
        "print(\"encoder_input_eng_sequences[175]:\", encoder_input_eng_sequences[175])\n",
        "\n",
        "print(word2idx_eng_inputs[\"i'm\"])\n",
        "print(word2idx_eng_inputs[\"shy\"])"
      ]
    },
    {
      "cell_type": "code",
      "execution_count": null,
      "metadata": {
        "colab": {
          "base_uri": "https://localhost:8080/"
        },
        "id": "O8FlDe40bWkE",
        "outputId": "8c06321e-5413-4c9d-dd47-a408ad561e33"
      },
      "outputs": [
        {
          "output_type": "stream",
          "name": "stdout",
          "text": [
            "decoder_input_french_sequences.shape: (20000, 13)\n",
            "decoder_input_french_sequences[175]: [  2   3   6 339   0   0   0   0   0   0   0   0   0]\n",
            "2\n",
            "3\n",
            "6\n",
            "339\n"
          ]
        }
      ],
      "source": [
        "decoder_input_french_sequences = pad_sequences(output_input_french_integer_seq, maxlen=max_out_len, padding='post')\n",
        "print(\"decoder_input_french_sequences.shape:\", decoder_input_french_sequences.shape)\n",
        "print(\"decoder_input_french_sequences[175]:\", decoder_input_french_sequences[175])\n",
        "\n",
        "print(word2idx_french_outputs[\"<sos>\"])\n",
        "print(word2idx_french_outputs[\"je\"])\n",
        "print(word2idx_french_outputs[\"suis\"])\n",
        "print(word2idx_french_outputs[\"timide.\"])"
      ]
    },
    {
      "cell_type": "code",
      "execution_count": null,
      "metadata": {
        "id": "FVZ_KPhKbZs2"
      },
      "outputs": [],
      "source": [
        "decoder_output_french_sequences = pad_sequences(output_french_integer_seq, maxlen=max_out_len, padding='post')"
      ]
    },
    {
      "cell_type": "code",
      "execution_count": null,
      "metadata": {
        "id": "2xBRPl3Hb-gR"
      },
      "outputs": [],
      "source": [
        "\n",
        "from numpy import array\n",
        "from numpy import asarray\n",
        "from numpy import zeros\n",
        "\n",
        "embeddings_dictionary = dict()\n",
        "\n",
        "glove_file = open(r'/content/drive/My Drive/GFU-ML+DL-U/NLP/glove.6B.100d.txt', encoding=\"utf8\")\n",
        "\n",
        "for line in glove_file:\n",
        "    records = line.split()\n",
        "    word = records[0]\n",
        "    vector_dimensions = asarray(records[1:], dtype='float32')\n",
        "    embeddings_dictionary[word] = vector_dimensions\n",
        "glove_file.close()"
      ]
    },
    {
      "cell_type": "code",
      "execution_count": null,
      "metadata": {
        "id": "GiT9BOaScAl2"
      },
      "outputs": [],
      "source": [
        "num_words = min(MAX_NUM_WORDS, len(word2idx_eng_inputs) + 1)\n",
        "embedding_matrix = zeros((num_words, EMBEDDING_SIZE))\n",
        "for word, index in word2idx_eng_inputs.items():\n",
        "    embedding_vector = embeddings_dictionary.get(word)\n",
        "    if embedding_vector is not None:\n",
        "        embedding_matrix[index] = embedding_vector"
      ]
    },
    {
      "cell_type": "code",
      "execution_count": null,
      "metadata": {
        "id": "MqkU0EMYdmWy"
      },
      "outputs": [],
      "source": [
        "embedding_layer = Embedding(num_words, EMBEDDING_SIZE, weights=[embedding_matrix], input_length=max_input_len)"
      ]
    },
    {
      "cell_type": "code",
      "execution_count": null,
      "metadata": {
        "id": "tpaw1_yPdHNh"
      },
      "outputs": [],
      "source": [
        "decoder_one_hot_targets = np.zeros((\n",
        "        len(input_english_sentences),\n",
        "        max_out_len,\n",
        "        num_words_output\n",
        "    ),\n",
        "    dtype='float32'\n",
        ")"
      ]
    },
    {
      "cell_type": "code",
      "execution_count": null,
      "metadata": {
        "colab": {
          "base_uri": "https://localhost:8080/"
        },
        "id": "UwO8ZoNXdLfI",
        "outputId": "58579cba-c3b1-4534-edc5-a949b4754863"
      },
      "outputs": [
        {
          "output_type": "execute_result",
          "data": {
            "text/plain": [
              "(20000, 13, 9533)"
            ]
          },
          "metadata": {},
          "execution_count": 18
        }
      ],
      "source": [
        "decoder_one_hot_targets.shape"
      ]
    },
    {
      "cell_type": "code",
      "execution_count": null,
      "metadata": {
        "id": "cG2qF2mDdMdS"
      },
      "outputs": [],
      "source": [
        "for i, d in enumerate(decoder_output_french_sequences):\n",
        "    for t, word in enumerate(d):\n",
        "        decoder_one_hot_targets[i, t, word] = 1\n"
      ]
    },
    {
      "cell_type": "code",
      "execution_count": null,
      "metadata": {
        "id": "JAcAKrtIdhKU"
      },
      "outputs": [],
      "source": [
        "encoder_inputs_eng_placeholder = Input(shape=(max_input_len,))\n",
        "x = embedding_layer(encoder_inputs_eng_placeholder)\n",
        "encoder = LSTM(LSTM_NODES, return_state=True)\n",
        "\n",
        "encoder_outputs, h, c = encoder(x)\n",
        "encoder_states = [h, c]\n"
      ]
    },
    {
      "cell_type": "code",
      "execution_count": null,
      "metadata": {
        "id": "2C0nSOFxdiZ9"
      },
      "outputs": [],
      "source": [
        "decoder_inputs_french_placeholder = Input(shape=(max_out_len,))\n",
        "\n",
        "decoder_embedding = Embedding(num_words_output, LSTM_NODES)\n",
        "decoder_inputs_x = decoder_embedding(decoder_inputs_french_placeholder)\n",
        "\n",
        "decoder_lstm = LSTM(LSTM_NODES, return_sequences=True, return_state=True)\n",
        "decoder_outputs, _, _ = decoder_lstm(decoder_inputs_x, initial_state=encoder_states)\n",
        "\n",
        "###\n",
        "\n",
        "decoder_dense = Dense(num_words_output, activation='softmax')\n",
        "decoder_outputs = decoder_dense(decoder_outputs)"
      ]
    },
    {
      "cell_type": "code",
      "execution_count": null,
      "metadata": {
        "id": "7BqUaGn7drtl"
      },
      "outputs": [],
      "source": [
        "model = Model([encoder_inputs_eng_placeholder,\n",
        "  decoder_inputs_french_placeholder], decoder_outputs)\n",
        "model.compile(\n",
        "    optimizer='rmsprop',\n",
        "    loss='categorical_crossentropy',\n",
        "    metrics=['accuracy']\n",
        ")"
      ]
    },
    {
      "cell_type": "code",
      "execution_count": null,
      "metadata": {
        "colab": {
          "base_uri": "https://localhost:8080/",
          "height": 533
        },
        "id": "9W5e1hNgggXV",
        "outputId": "d52f5078-8c58-41a9-8908-a349a57bcd7e"
      },
      "outputs": [
        {
          "output_type": "execute_result",
          "data": {
            "image/png": "[encoded data removed]",
            "text/plain": [
              "<IPython.core.display.Image object>"
            ]
          },
          "metadata": {},
          "execution_count": 23
        }
      ],
      "source": [
        "from tensorflow.keras.utils import plot_model\n",
        "plot_model(model, to_file='model_plot4a.png', show_shapes=True, show_layer_names=True)"
      ]
    },
    {
      "cell_type": "code",
      "execution_count": null,
      "metadata": {
        "id": "0rRZd7NRdtAY",
        "colab": {
          "base_uri": "https://localhost:8080/"
        },
        "outputId": "1df38bb3-63be-4643-d64a-b49da8946e1f"
      },
      "outputs": [
        {
          "output_type": "stream",
          "name": "stdout",
          "text": [
            "Epoch 1/20\n",
            "282/282 [==============================] - 20s 56ms/step - loss: 2.2435 - accuracy: 0.7014 - val_loss: 2.2721 - val_accuracy: 0.6887\n",
            "Epoch 2/20\n",
            "282/282 [==============================] - 10s 34ms/step - loss: 1.8414 - accuracy: 0.7375 - val_loss: 2.1632 - val_accuracy: 0.7011\n",
            "Epoch 3/20\n",
            "282/282 [==============================] - 10s 34ms/step - loss: 1.7177 - accuracy: 0.7437 - val_loss: 2.0461 - val_accuracy: 0.6984\n",
            "Epoch 4/20\n",
            "282/282 [==============================] - 9s 34ms/step - loss: 1.6073 - accuracy: 0.7524 - val_loss: 1.9458 - val_accuracy: 0.7192\n",
            "Epoch 5/20\n",
            "282/282 [==============================] - 10s 34ms/step - loss: 1.5258 - accuracy: 0.7615 - val_loss: 1.9043 - val_accuracy: 0.7225\n",
            "Epoch 6/20\n",
            "282/282 [==============================] - 10s 34ms/step - loss: 1.4581 - accuracy: 0.7714 - val_loss: 1.8659 - val_accuracy: 0.7256\n",
            "Epoch 7/20\n",
            "282/282 [==============================] - 9s 33ms/step - loss: 1.3963 - accuracy: 0.7798 - val_loss: 1.8288 - val_accuracy: 0.7167\n",
            "Epoch 8/20\n",
            "282/282 [==============================] - 10s 34ms/step - loss: 1.3428 - accuracy: 0.7860 - val_loss: 1.8166 - val_accuracy: 0.7157\n",
            "Epoch 9/20\n",
            "282/282 [==============================] - 9s 34ms/step - loss: 1.2963 - accuracy: 0.7903 - val_loss: 1.7922 - val_accuracy: 0.7216\n",
            "Epoch 10/20\n",
            "282/282 [==============================] - 10s 35ms/step - loss: 1.2524 - accuracy: 0.7943 - val_loss: 1.7551 - val_accuracy: 0.7355\n",
            "Epoch 11/20\n",
            "282/282 [==============================] - 9s 33ms/step - loss: 1.2092 - accuracy: 0.7994 - val_loss: 1.7386 - val_accuracy: 0.7425\n",
            "Epoch 12/20\n",
            "282/282 [==============================] - 9s 34ms/step - loss: 1.1657 - accuracy: 0.8052 - val_loss: 1.7233 - val_accuracy: 0.7378\n",
            "Epoch 13/20\n",
            "282/282 [==============================] - 9s 33ms/step - loss: 1.1241 - accuracy: 0.8105 - val_loss: 1.7284 - val_accuracy: 0.7364\n",
            "Epoch 14/20\n",
            "282/282 [==============================] - 10s 34ms/step - loss: 1.0871 - accuracy: 0.8140 - val_loss: 1.6869 - val_accuracy: 0.7496\n",
            "Epoch 15/20\n",
            "282/282 [==============================] - 10s 34ms/step - loss: 1.0507 - accuracy: 0.8181 - val_loss: 1.6508 - val_accuracy: 0.7552\n",
            "Epoch 16/20\n",
            "282/282 [==============================] - 9s 33ms/step - loss: 1.0168 - accuracy: 0.8218 - val_loss: 1.6202 - val_accuracy: 0.7597\n",
            "Epoch 17/20\n",
            "282/282 [==============================] - 10s 34ms/step - loss: 0.9841 - accuracy: 0.8253 - val_loss: 1.6200 - val_accuracy: 0.7589\n",
            "Epoch 18/20\n",
            "282/282 [==============================] - 9s 33ms/step - loss: 0.9533 - accuracy: 0.8287 - val_loss: 1.5923 - val_accuracy: 0.7652\n",
            "Epoch 19/20\n",
            "282/282 [==============================] - 9s 33ms/step - loss: 0.9238 - accuracy: 0.8320 - val_loss: 1.5867 - val_accuracy: 0.7659\n",
            "Epoch 20/20\n",
            "282/282 [==============================] - 9s 33ms/step - loss: 0.8952 - accuracy: 0.8353 - val_loss: 1.5770 - val_accuracy: 0.7656\n"
          ]
        }
      ],
      "source": [
        "r = model.fit(\n",
        "    [encoder_input_eng_sequences, decoder_input_french_sequences],\n",
        "    decoder_one_hot_targets,\n",
        "    batch_size=BATCH_SIZE,\n",
        "    epochs=20,\n",
        "    validation_split=0.1,\n",
        ")"
      ]
    },
    {
      "cell_type": "code",
      "execution_count": null,
      "metadata": {
        "id": "xWbfwN9deRVl"
      },
      "outputs": [],
      "source": [
        "encoder_prediction_model = Model(encoder_inputs_eng_placeholder, encoder_states)\n",
        "\n",
        "decoder_state_input_h = Input(shape=(LSTM_NODES,))\n",
        "decoder_state_input_c = Input(shape=(LSTM_NODES,))\n",
        "decoder_states_inputs = [decoder_state_input_h, decoder_state_input_c]\n",
        "\n",
        "\n",
        "decoder_inputs_single = Input(shape=(1,))\n",
        "decoder_inputs_single_x = decoder_embedding(decoder_inputs_single)\n",
        "\n",
        "\n",
        "decoder_outputs, h, c = decoder_lstm(decoder_inputs_single_x, initial_state=decoder_states_inputs)\n",
        "\n",
        "\n",
        "\n",
        "decoder_states = [h, c]\n",
        "decoder_outputs = decoder_dense(decoder_outputs)\n",
        "\n",
        "\n",
        "decoder_model = Model(\n",
        "    [decoder_inputs_single] + decoder_states_inputs,\n",
        "    [decoder_outputs] + decoder_states\n",
        ")\n"
      ]
    },
    {
      "cell_type": "code",
      "execution_count": null,
      "metadata": {
        "id": "pLZb0EtHgx6Z",
        "colab": {
          "base_uri": "https://localhost:8080/",
          "height": 533
        },
        "outputId": "a2654f18-b1b6-4801-bfcc-416c4875dd1a"
      },
      "outputs": [
        {
          "output_type": "execute_result",
          "data": {
            "image/png": "[encoded data removed]",
            "text/plain": [
              "<IPython.core.display.Image object>"
            ]
          },
          "metadata": {},
          "execution_count": 26
        }
      ],
      "source": [
        "from tensorflow.keras.utils import plot_model\n",
        "plot_model(model, to_file='model_plot4a.png', show_shapes=True, show_layer_names=True)"
      ]
    },
    {
      "cell_type": "code",
      "execution_count": null,
      "metadata": {
        "id": "JTp20w2NeR94"
      },
      "outputs": [],
      "source": [
        "idx2word_eng_input = {v:k for k, v in word2idx_eng_inputs.items()}\n",
        "idx2word_french_target = {v:k for k, v in word2idx_french_outputs.items()}"
      ]
    },
    {
      "cell_type": "code",
      "execution_count": null,
      "metadata": {
        "id": "kChUQ5toeT8v"
      },
      "outputs": [],
      "source": [
        "def perform_translation(input_seq):\n",
        "    states_value = encoder_prediction_model.predict(input_seq)\n",
        "    target_seq = np.zeros((1, 1))\n",
        "    target_seq[0, 0] = word2idx_french_outputs['<sos>']\n",
        "    eos = word2idx_french_outputs['<eos>']\n",
        "    output_sentence = []\n",
        "\n",
        "    for _ in range(max_out_len):\n",
        "        output_tokens, h, c = decoder_model.predict([target_seq] + states_value)\n",
        "        idx = np.argmax(output_tokens[0, 0, :])\n",
        "\n",
        "        if eos == idx:\n",
        "            break\n",
        "\n",
        "        word = ''\n",
        "\n",
        "        if idx > 0:\n",
        "            word = idx2word_french_target[idx]\n",
        "            output_sentence.append(word)\n",
        "\n",
        "        target_seq[0, 0] = idx\n",
        "        states_value = [h, c]\n",
        "\n",
        "    return ' '.join(output_sentence)"
      ]
    },
    {
      "cell_type": "code",
      "execution_count": null,
      "metadata": {
        "id": "Juw6uNThgDPg",
        "colab": {
          "base_uri": "https://localhost:8080/"
        },
        "outputId": "f0cd4ef6-affe-46e2-ba60-6534b6e0ab25"
      },
      "outputs": [
        {
          "output_type": "stream",
          "name": "stdout",
          "text": [
            "1/1 [==============================] - 0s 17ms/step\n",
            "1/1 [==============================] - 0s 18ms/step\n",
            "1/1 [==============================] - 0s 18ms/step\n",
            "1/1 [==============================] - 0s 18ms/step\n",
            "1/1 [==============================] - 0s 18ms/step\n",
            "1/1 [==============================] - 0s 17ms/step\n",
            "1/1 [==============================] - 0s 18ms/step\n",
            "1/1 [==============================] - 0s 18ms/step\n",
            "-\n",
            "engish sentence I was devastated.\n",
            "Translated Sentence: j'étais été été qui le chance.\n"
          ]
        }
      ],
      "source": [
        "random_sentence_index = np.random.choice(len(input_english_sentences))\n",
        "input_eng_seq = encoder_input_eng_sequences[random_sentence_index:random_sentence_index+1]\n",
        "translation = perform_translation(input_eng_seq)\n",
        "print('-')\n",
        "print('engish sentence', input_english_sentences[random_sentence_index])\n",
        "print('Translated Sentence:', translation)"
      ]
    }
  ],
  "metadata": {
    "accelerator": "GPU",
    "colab": {
      "provenance": [],
      "machine_shape": "hm",
      "gpuType": "T4"
    },
    "kernelspec": {
      "display_name": "Python 3",
      "language": "python",
      "name": "python3"
    },
    "language_info": {
      "codemirror_mode": {
        "name": "ipython",
        "version": 3
      },
      "file_extension": ".py",
      "mimetype": "text/x-python",
      "name": "python",
      "nbconvert_exporter": "python",
      "pygments_lexer": "ipython3",
      "version": "3.8.5"
    },
    "gpuClass": "standard"
  },
  "nbformat": 4,
  "nbformat_minor": 0
}